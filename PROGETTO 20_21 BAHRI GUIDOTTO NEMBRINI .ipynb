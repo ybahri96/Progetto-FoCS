{
 "cells": [
  {
   "cell_type": "code",
   "execution_count": null,
   "metadata": {},
   "outputs": [],
   "source": [
    "#importazione librerie\n",
    "import pandas as pd\n",
    "import re\n",
    "import numpy as np"
   ]
  },
  {
   "cell_type": "code",
   "execution_count": null,
   "metadata": {
    "scrolled": false
   },
   "outputs": [],
   "source": [
    "times=pd.read_csv('C:/Users/Antonino Guidotto/Desktop/2020/timesData.csv') #lettura del file .csv\n",
    "times.head() #mostriamo le prime 5 righe del dataset "
   ]
  },
  {
   "cell_type": "markdown",
   "metadata": {},
   "source": [
    "# 1. For each university, extract from the times dataset the most recent and the least recent data, obtaining two separate dataframes"
   ]
  },
  {
   "cell_type": "code",
   "execution_count": null,
   "metadata": {},
   "outputs": [],
   "source": [
    "#attraverso la funzione groupby abbiamo raggruppato il dataset per il nome dell'università, \n",
    "#individuando grazie alle funzioni idxmax e idxmin, l'indice che possedeva il valore minimo e massimo dell'attributo anno\n",
    "#dopo, grazie alla funzione .loc è stata istratta l'intera riga contenente il risultato delle operazioni descritte\n",
    "\n",
    "times_max=times.loc[times.groupby('university_name').idxmax()['year']]  \n",
    "times_min=times.loc[times.groupby('university_name').idxmin()['year']]\n",
    "\n",
    "#attraverso la funzione reset_index, è stato resettato l'indice in modo da farlo ripartire da zero.\n",
    "times_max.reset_index(level=0,inplace=True)\n",
    "times_min.reset_index(level=0,inplace=True)\n",
    "\n",
    "times_max.head() "
   ]
  },
  {
   "cell_type": "code",
   "execution_count": null,
   "metadata": {},
   "outputs": [],
   "source": [
    "times_min.head()"
   ]
  },
  {
   "cell_type": "markdown",
   "metadata": {},
   "source": [
    "# 2. For each university, compute the improvement in income between the least recent and the most recent data point"
   ]
  },
  {
   "cell_type": "code",
   "execution_count": null,
   "metadata": {},
   "outputs": [],
   "source": [
    "df=times.copy() #viene creata una copia del dataframe times in modo da non intaccare eventuali esecuzioni successive\n",
    "\n",
    "#iteriamo su tutte le righe del dataframe df, e se nella colonna relativa all'income, il record presenta il carattere '-'\n",
    "# allora la riga viene eliminata\n",
    "for index, row in df.iterrows():\n",
    "    if row['income']=='-':\n",
    "        df.drop([index],inplace=True)\n",
    "\n",
    "\n",
    "df_max=df.loc[df.groupby('university_name').idxmax()['year']]\n",
    "df_min=df.loc[df.groupby('university_name').idxmin()['year']]\n",
    "  \n",
    "df_max.reset_index(level=0,inplace=True)\n",
    "df_max.head()"
   ]
  },
  {
   "cell_type": "code",
   "execution_count": null,
   "metadata": {},
   "outputs": [],
   "source": [
    "df_min.reset_index(level=0,inplace=True)\n",
    "df_min.head()"
   ]
  },
  {
   "cell_type": "code",
   "execution_count": null,
   "metadata": {},
   "outputs": [],
   "source": [
    "# viene fatta una merge tra i due dataframe sull'attributo 'university_name'\n",
    "fuso = pd.merge(df_min, df_max, on= 'university_name', right_index = True)\n",
    "#vengono rinominate le colonne derivanti dall'operazione di merge\n",
    "fuso.rename(columns={'income_x':'income_min'}, inplace=True)\n",
    "fuso.rename(columns={'income_y':'income_max'}, inplace=True)\n",
    "fuso.rename(columns={'year_x':'year_min'}, inplace=True)\n",
    "fuso.rename(columns={'year_y':'year_max'}, inplace=True)\n",
    "\n",
    "# viene convertito il tipo dell'attributo in float\n",
    "fuso['income_min'] = fuso['income_min'].astype(float)\n",
    "fuso['income_max'] = fuso['income_max'].astype(float)\n",
    "\n",
    "#creazione di un nuovo dataframe contenente le colonne utili per questa elaborazione\n",
    "fuso_income=fuso[['university_name','income_min','year_min', 'income_max','year_max']]\n",
    "\n",
    "fuso_income.head()"
   ]
  },
  {
   "cell_type": "code",
   "execution_count": null,
   "metadata": {},
   "outputs": [],
   "source": [
    "# viene calcolata la differenza tra il valore di 'income_max' e il valore di 'income_min'\n",
    "fuso_income['improvement']=fuso_income['income_max']-fuso_income['income_min']\n",
    "\n",
    "fuso_income.head()\n"
   ]
  },
  {
   "cell_type": "markdown",
   "metadata": {},
   "source": [
    "# 3. Find the university with the largest increase computed in the previous point"
   ]
  },
  {
   "cell_type": "code",
   "execution_count": null,
   "metadata": {},
   "outputs": [],
   "source": [
    "# si usa la funzione .iloc per estrarre la riga con le caratteristiche desiderate grazie alla funzione .idxmax\n",
    "fuso_income.iloc[fuso_income['improvement'].idxmax()]"
   ]
  },
  {
   "cell_type": "markdown",
   "metadata": {},
   "source": [
    "# 4. For each ranking, consider only the most recent data point. For each university, compute the maximum difference between the rankings (e.g. for Aarhus University the value is 122-73=49). Notice that some rankings are expressed as a range"
   ]
  },
  {
   "cell_type": "code",
   "execution_count": null,
   "metadata": {},
   "outputs": [],
   "source": [
    "shanghai=pd.read_csv('C:/Users/Antonino Guidotto/Desktop/2020/shanghaiData.csv')\n",
    "\n",
    "shanghai.head()"
   ]
  },
  {
   "cell_type": "code",
   "execution_count": null,
   "metadata": {},
   "outputs": [],
   "source": [
    "#creazione di un dataframe \"ribaltato\", al fine di avereun dataframe dove l'ordine cronologico non sia dal data point\n",
    "# meno recente al più recente, ma viceversa.\n",
    "ribaltato_s=shanghai.iloc[::-1]\n",
    "\n",
    "ribaltato_s.head()"
   ]
  },
  {
   "cell_type": "code",
   "execution_count": null,
   "metadata": {},
   "outputs": [],
   "source": [
    "cwur=pd.read_csv('C:/Users/Antonino Guidotto/Desktop/2020/cwurData.csv')\n",
    "cwur.head()"
   ]
  },
  {
   "cell_type": "code",
   "execution_count": null,
   "metadata": {
    "scrolled": true
   },
   "outputs": [],
   "source": [
    "ribaltato_c=cwur.iloc[::-1]\n",
    "ribaltato_c.head()"
   ]
  },
  {
   "cell_type": "code",
   "execution_count": null,
   "metadata": {},
   "outputs": [],
   "source": [
    "#creazione di un dizionario\n",
    "diz_max_rank_times={}\n",
    "\n",
    "i=0\n",
    "\n",
    "# iterazione sul dataframe times_max\n",
    "for uni in times_max['university_name']:\n",
    "    ranking=times_max['world_rank'][i] #estrazione del valore dell'attributo 'ranking' associato all'università in questione\n",
    "    anno=times_max['year'][i] #estrazione del valore dell'attributo 'anno' associato all'università in questione\n",
    "    if uni not in diz_max_rank_times: #condizione, se l'università non si trova già nel dizionario...\n",
    "        # se il trattino si trova nel ranking, allora la posizione nel ranking sarà data dal valore medio tra i due estremi del range\n",
    "        if '-' in ranking: \n",
    "            num1=int(ranking[:3]) # primo valore del range\n",
    "            num2=int(ranking[4:]) # secondo valore del range\n",
    "            val_centrale=(num2+num1)/2 # calcolo del valore centrale (media aritmetica)\n",
    "            #inserimento della coppia chiave:valori nel dizionario, con chiave 'uni' e valori 'ranking' e 'anno'\n",
    "            diz_max_rank_times[uni]=(val_centrale, anno) \n",
    "            \n",
    "        else:\n",
    "            diz_max_rank_times[uni]=(ranking, anno)\n",
    "            \n",
    "    \n",
    "    i+=1\n",
    "\n",
    "print(diz_max_rank_times)"
   ]
  },
  {
   "cell_type": "code",
   "execution_count": null,
   "metadata": {},
   "outputs": [],
   "source": [
    "#trasformazione del dizionario in dataframe\n",
    "df_max_rank_times=pd.DataFrame.from_dict(diz_max_rank_times, orient='index',columns=['world_rank','year'])\n",
    "\n",
    "df_max_rank_times.reset_index(level=0,inplace=True)\n",
    "df_max_rank_times.rename(columns={'index' : 'university_name'}, inplace=True)\n",
    "df_max_rank_times.head()\n"
   ]
  },
  {
   "cell_type": "code",
   "execution_count": null,
   "metadata": {},
   "outputs": [],
   "source": [
    "diz_max_rank_shanghai={}\n",
    "i=len(ribaltato_s)-1\n",
    "for uni in ribaltato_s['university_name']:\n",
    "    ranking=ribaltato_s['world_rank'][i]\n",
    "    anno=ribaltato_s['year'][i]\n",
    "    if uni not in diz_max_rank_shanghai:\n",
    "        if '-' in ranking:\n",
    "            num1=int(ranking[:3])\n",
    "            num2=int(ranking[4:])\n",
    "            val_centrale=(num2+num1)/2\n",
    "            diz_max_rank_shanghai[uni]=(val_centrale, anno)\n",
    "            \n",
    "        else:\n",
    "            diz_max_rank_shanghai[uni]=(ranking, anno)\n",
    "            \n",
    "    \n",
    "    i-=1\n",
    "\n",
    "print(diz_max_rank_shanghai)"
   ]
  },
  {
   "cell_type": "code",
   "execution_count": null,
   "metadata": {},
   "outputs": [],
   "source": [
    "df_max_rank_shanghai=pd.DataFrame.from_dict(diz_max_rank_shanghai, orient='index',columns=['world_rank','year'])\n",
    "df_max_rank_shanghai.reset_index(level=0,inplace=True)\n",
    "df_max_rank_shanghai.rename(columns={'index' : 'university_name'}, inplace=True)\n",
    "df_max_rank_shanghai.head()"
   ]
  },
  {
   "cell_type": "code",
   "execution_count": null,
   "metadata": {},
   "outputs": [],
   "source": [
    "diz_max_rank_cwur={}\n",
    "i=len(ribaltato_c)-1\n",
    "for uni in ribaltato_c['institution']:\n",
    "    ranking=ribaltato_c['world_rank'][i]\n",
    "    anno=ribaltato_c['year'][i]\n",
    "    if uni not in diz_max_rank_cwur:\n",
    "        diz_max_rank_cwur[uni]=(ranking, anno)\n",
    "            \n",
    "    \n",
    "    i-=1\n",
    "\n",
    "print(diz_max_rank_cwur)"
   ]
  },
  {
   "cell_type": "code",
   "execution_count": null,
   "metadata": {},
   "outputs": [],
   "source": [
    "df_max_rank_cwur=pd.DataFrame.from_dict(diz_max_rank_cwur, orient='index',columns=['world_rank','year'])\n",
    "df_max_rank_cwur.reset_index(level=0,inplace=True)\n",
    "df_max_rank_cwur.rename(columns={'index' : 'university_name'}, inplace=True)\n",
    "df_max_rank_cwur.head()"
   ]
  },
  {
   "cell_type": "code",
   "execution_count": null,
   "metadata": {},
   "outputs": [],
   "source": [
    "# operazione di merge tra i 3 dataframe sull'attributo 'university_name'\n",
    "fuso_parziale = pd.merge(df_max_rank_times, df_max_rank_shanghai, on= 'university_name', right_index = True)\n",
    "fuso_ranking=pd.merge(fuso_parziale, df_max_rank_cwur, on= 'university_name', right_index = True)\n",
    "\n",
    "fuso_ranking.rename(columns={'world_rank_x' : 'world_rank_times'}, inplace=True)\n",
    "fuso_ranking.rename(columns={'year_x' : 'year_times'}, inplace=True)\n",
    "fuso_ranking.rename(columns={'world_rank_y' : 'world_rank_shanghai'}, inplace=True)\n",
    "fuso_ranking.rename(columns={'year_y' : 'year_shanghai'}, inplace=True)\n",
    "fuso_ranking.rename(columns={'world_rank' : 'world_rank_cwur'}, inplace=True)\n",
    "fuso_ranking.rename(columns={'year' : 'year_cwur'}, inplace=True)\n",
    "fuso_ranking.reset_index(drop=True, inplace=True)\n",
    "\n",
    "fuso_ranking.head()"
   ]
  },
  {
   "cell_type": "code",
   "execution_count": null,
   "metadata": {},
   "outputs": [],
   "source": [
    "li=[] #creazione di una lista vuora\n",
    "\n",
    "for elem in fuso_ranking['world_rank_times']:\n",
    "    if '=' in str(elem):\n",
    "        # eliminazione del carattere '=' dalla colonna indicata si usa  la funzione .replace\n",
    "        elem_nuovo=float(elem.replace('=','')) \n",
    "        li.append(elem_nuovo)\n",
    "    else: \n",
    "        li.append(float(elem))\n",
    "\n",
    "fuso_ranking['world_rank_times']=li # sostituzione della colonna con la lista 'li'\n"
   ]
  },
  {
   "cell_type": "code",
   "execution_count": null,
   "metadata": {},
   "outputs": [],
   "source": [
    "i=0\n",
    "#creazione di 3 liste vuote\n",
    "li1=[]\n",
    "li2=[]\n",
    "li3=[]\n",
    "\n",
    "# vengono fatti dei confronti tra le posizioni delle università nei vari ranking al fine di calcolare le differenze.\n",
    "while i<len(fuso_ranking):\n",
    "    if fuso_ranking['year_times'][i]>=fuso_ranking['year_shanghai'][i]:\n",
    "        diff_t_s=float(fuso_ranking['world_rank_times'][i])-float(fuso_ranking['world_rank_shanghai'][i])\n",
    "        li1.append(diff_t_s) #la funzione .append, permette di aggiungere elementi ad una lista\n",
    "        \n",
    "    else:\n",
    "        diff_s_t=float(fuso_ranking['world_rank_shanghai'][i])-float(fuso_ranking['world_rank_times'][i])\n",
    "        li1.append(diff_s_t)\n",
    "        \n",
    "    if fuso_ranking['year_times'][i]>=fuso_ranking['year_cwur'][i]:\n",
    "        diff_t_c=float(fuso_ranking['world_rank_times'][i])-float(fuso_ranking['world_rank_cwur'][i])\n",
    "        li2.append(diff_t_c)\n",
    "    else:\n",
    "        diff_c_t=float(fuso_ranking['world_rank_cwur'][i])-float(fuso_ranking['world_rank_times'][i])\n",
    "        li2.append(diff_c_t)\n",
    "        \n",
    "    if fuso_ranking['year_shanghai'][i]>=fuso_ranking['year_cwur'][i]:\n",
    "        diff_s_c=float(fuso_ranking['world_rank_shanghai'][i])-float(fuso_ranking['world_rank_cwur'][i])\n",
    "        diff_s_t=float(fuso_ranking['world_rank_shanghai'][i])-float(fuso_ranking['world_rank_times'][i])\n",
    "        li3.append(diff_s_t)\n",
    "    else:\n",
    "        diff_c_s=float(fuso_ranking['world_rank_cwur'][i])-float(fuso_ranking['world_rank_shanghai'][i])\n",
    "        li3.append(diff_c_s)\n",
    "    \n",
    "    i+=1\n",
    "    \n",
    "fuso_ranking['diff_t_s']=li1\n",
    "fuso_ranking['diff_t_c']=li2\n",
    "fuso_ranking['diff_s_c']=li3"
   ]
  },
  {
   "cell_type": "code",
   "execution_count": null,
   "metadata": {},
   "outputs": [],
   "source": [
    "fuso_ranking.head()"
   ]
  },
  {
   "cell_type": "code",
   "execution_count": null,
   "metadata": {},
   "outputs": [],
   "source": [
    "uni=[]\n",
    "massimo=[]\n",
    "i=0\n",
    "# grazie a questa serie di ulteriori confronti tra le differenze trovate al punto sopra, \n",
    "#siamo in grado di individuare la differenza massima\n",
    "while i<len(fuso_ranking):\n",
    "    if fuso_ranking['diff_t_s'][i]>=fuso_ranking['diff_t_c'][i]:\n",
    "        if fuso_ranking['diff_t_s'][i]>=fuso_ranking['diff_s_c'][i]:\n",
    "            uni.append(fuso_ranking['university_name'][i])\n",
    "            massimo.append(fuso_ranking['diff_t_s'][i])\n",
    "        else:\n",
    "            uni.append(fuso_ranking['university_name'][i])\n",
    "            massimo.append(fuso_ranking['diff_s_c'][i])\n",
    "            \n",
    "    elif fuso_ranking['diff_t_c'][i]>=fuso_ranking['diff_s_c'][i]:\n",
    "        \n",
    "        uni.append(fuso_ranking['university_name'][i])\n",
    "        massimo.append(fuso_ranking['diff_t_c'][i])\n",
    "    else:\n",
    "        uni.append(fuso_ranking['university_name'][i])\n",
    "        massimo.append(fuso_ranking['diff_s_c'][i])\n",
    "        \n",
    "    i+=1\n",
    "    \n",
    "        \n",
    "fuso_ranking['max_diff']=massimo\n",
    "fuso_ranking.head()\n",
    "            \n",
    "       \n"
   ]
  },
  {
   "cell_type": "markdown",
   "metadata": {},
   "source": [
    "## 5. Consider only the most recent data point of the times dataset. Compute the number of male and female students for each country"
   ]
  },
  {
   "cell_type": "code",
   "execution_count": null,
   "metadata": {
    "scrolled": true
   },
   "outputs": [],
   "source": [
    "times_max"
   ]
  },
  {
   "cell_type": "code",
   "execution_count": null,
   "metadata": {},
   "outputs": [],
   "source": [
    "times_max['num_students']=times_max['num_students'].str.replace(',','')\n",
    "times_max['num_students']=times_max['num_students'].astype('float')"
   ]
  },
  {
   "cell_type": "code",
   "execution_count": null,
   "metadata": {},
   "outputs": [],
   "source": [
    "#viene fatta la media divisa per country dell'attributo 'num_students' e si va a sostituirla laddove appaiono valori mancanti\n",
    "media_studenti=times_max.groupby('country')['num_students'].mean()\n",
    "media_studenti.head()\n"
   ]
  },
  {
   "cell_type": "code",
   "execution_count": null,
   "metadata": {},
   "outputs": [],
   "source": [
    "i=0\n",
    "for elem in times_max['num_students']:\n",
    "    country=times_max['country'][i]\n",
    "    media=media_studenti[country]\n",
    "    #utilizzo della funzione .fillna per \"riempire\" i record aventi valore nullo \n",
    "    times_max['num_students'].fillna(media, inplace=True) \n",
    "    i+=1\n",
    "            \n",
    "times_max\n",
    "            "
   ]
  },
  {
   "cell_type": "code",
   "execution_count": null,
   "metadata": {},
   "outputs": [],
   "source": [
    "# utilizzo della funzione .str.split per la separazione della stringa riguardante l'attributo male_female_ratio\n",
    "times_max[['female', 'male']] = times_max['female_male_ratio'].str.split('\\:', expand=True) \n",
    "\n",
    "# viene convertito il tipo di tutti i valori dell'attributo female e male da str a float escludendo da questa operazione\n",
    "# i valori mancanti (per entrambi gli attributi) e quelli contenenti il carattere '-' (per l'attributo 'female')\n",
    "times_max['female']=times_max['female'][times_max['female']!='-'][times_max['female'].notnull()].astype('float')\n",
    "times_max['male']=times_max['male'][times_max['male'].notnull()].astype('float')\n",
    "\n",
    "#medie percentuali di femmine e maschi per ogni nazione\n",
    "media_femmine=times_max.groupby('country')['female'].mean()\n",
    "media_maschi=times_max.groupby('country')['male'].mean()\n",
    "\n",
    "i=0\n",
    "for elem in times_max['female']:\n",
    "    country=times_max['country'][i]\n",
    "    media=media_femmine[country]\n",
    "    times_max['female'].fillna(media, inplace=True)\n",
    "    i+=1\n",
    "    \n",
    "j=0\n",
    "for elem in times_max['male']:\n",
    "    country=times_max['country'][j]\n",
    "    media=media_maschi[country]\n",
    "    times_max['male'].fillna(media, inplace=True)\n",
    "    j+=1\n",
    "            \n",
    "times_max.head()"
   ]
  },
  {
   "cell_type": "code",
   "execution_count": null,
   "metadata": {},
   "outputs": [],
   "source": [
    "#uso della funzione round per l'arrotondamento alla terza cifra decimale\n",
    "times_max['female']=round(times_max['female'], 3)\n",
    "times_max['male']=round(times_max['male'], 3)\n",
    "\n",
    "#calcolo delle percentuali totali di femmine e maschi sul totale degli studenti\n",
    "times_max['tot_female']=(times_max['female']*times_max['num_students'])/100\n",
    "times_max['tot_male']=(times_max['male']*times_max['num_students'])/100\n",
    "\n",
    "times_max.head()"
   ]
  },
  {
   "cell_type": "markdown",
   "metadata": {},
   "source": [
    "## 6. Find the universities where the ratio between female and male is below the average ratio (computed over all universities)"
   ]
  },
  {
   "cell_type": "code",
   "execution_count": null,
   "metadata": {},
   "outputs": [],
   "source": [
    "#viene calcolato, per ogni riga, il rapporto tra female/male\n",
    "times_max['female/male']=times_max['female']/times_max['male']\n",
    "times_max['female/male']=round(times_max['female/male'],3)\n",
    "\n",
    "times_max.head()"
   ]
  },
  {
   "cell_type": "code",
   "execution_count": null,
   "metadata": {},
   "outputs": [],
   "source": [
    "#viene calcolato il rapporto medio: media female / media male\n",
    "rapporto_medio = np.mean(times_max['female/male'][np.isfinite(times_max['female/male'])])\n",
    "rapporto_medio"
   ]
  },
  {
   "cell_type": "code",
   "execution_count": null,
   "metadata": {},
   "outputs": [],
   "source": [
    "#viene verificato se il rapporto female/male sia minore del rapporto medio,\n",
    "# se questo si verifica, l'università in questione viene messa inserita in under_ratio\n",
    "under_ratio = times_max[times_max['female/male'] < rapporto_medio]\n",
    "under_ratio.reset_index(level=0,inplace=True)\n",
    "\n",
    "under_ratio.head()"
   ]
  },
  {
   "cell_type": "markdown",
   "metadata": {},
   "source": [
    "## 7. For each country, compute the fraction of the students in the country that are in one of the universities computed in the previous point (that is, the denominator of the ratio is the total number of students over all universities in the country).¶"
   ]
  },
  {
   "cell_type": "code",
   "execution_count": null,
   "metadata": {},
   "outputs": [],
   "source": [
    "#numeratore = somma studenti punto 6 per nazione \n",
    "#denominatore = a tot studenti nella nazione"
   ]
  },
  {
   "cell_type": "code",
   "execution_count": null,
   "metadata": {},
   "outputs": [],
   "source": [
    "#numeratore \n",
    "\n",
    "tot_studenti_under_ratio = under_ratio.groupby('country')['num_students'].sum() \n",
    "tot_studenti_under_ratio.head()"
   ]
  },
  {
   "cell_type": "code",
   "execution_count": null,
   "metadata": {},
   "outputs": [],
   "source": [
    "#denominatore\n",
    "\n",
    "tot_studenti=times_max.groupby('country')['num_students'].sum()\n",
    "tot_studenti.head()"
   ]
  },
  {
   "cell_type": "code",
   "execution_count": null,
   "metadata": {},
   "outputs": [],
   "source": [
    "#calcolo del rapporto \n",
    "\n",
    "rapporto = tot_studenti_under_ratio/tot_studenti\n",
    "rapporto"
   ]
  },
  {
   "cell_type": "markdown",
   "metadata": {},
   "source": [
    "## 8. Read the file educational_attainment_supplementary_data.csv, discarding any row with missing country_name or series_name"
   ]
  },
  {
   "cell_type": "code",
   "execution_count": null,
   "metadata": {},
   "outputs": [],
   "source": [
    "edu_att = pd.read_csv('C:/Users/Antonino Guidotto/Desktop/2020/educational_attainment_supplementary_data.csv')\n",
    "edu_att.tail()"
   ]
  },
  {
   "cell_type": "code",
   "execution_count": null,
   "metadata": {},
   "outputs": [],
   "source": [
    "edu_att[edu_att['country_name'].isnull()==True]"
   ]
  },
  {
   "cell_type": "code",
   "execution_count": null,
   "metadata": {},
   "outputs": [],
   "source": [
    "edu_att[edu_att['series_name'].isnull()==True]"
   ]
  },
  {
   "cell_type": "code",
   "execution_count": null,
   "metadata": {},
   "outputs": [],
   "source": [
    "#utilizzo della funzione .dropna per eliminare le righe con valori mancanti negli attributi indicati\n",
    "edu_att = edu_att.dropna(subset=['country_name','series_name'])"
   ]
  },
  {
   "cell_type": "code",
   "execution_count": null,
   "metadata": {},
   "outputs": [],
   "source": [
    "edu_att.head()"
   ]
  },
  {
   "cell_type": "markdown",
   "metadata": {},
   "source": [
    "## 9. From attainment build a dataframe with the same data, but with 4 columns: country_name, series_name, year, value"
   ]
  },
  {
   "cell_type": "code",
   "execution_count": null,
   "metadata": {},
   "outputs": [],
   "source": [
    "# utilizzo della funzione .melt per convertire le colonne rappresentanti i vari anni in valori di riga\n",
    "melted_df = pd.melt(edu_att, id_vars=['country_name','series_name'], value_vars=['1985', '1986', '1987', '1990', '1991',\n",
    "       '1992', '1993', '1995', '1996', '1997', '1998', '1999', '2000', '2001',\n",
    "       '2002', '2003', '2004', '2005', '2006', '2007', '2008', '2009', '2010',\n",
    "       '2011', '2012', '2013', '2015'])"
   ]
  },
  {
   "cell_type": "code",
   "execution_count": null,
   "metadata": {},
   "outputs": [],
   "source": [
    "melted_df_dropped = melted_df.dropna()\n",
    "melted_df_dropped.rename(columns = {'variable':'year'} , inplace= True)\n",
    "melted_df_dropped"
   ]
  },
  {
   "cell_type": "markdown",
   "metadata": {},
   "source": [
    "## 10. For each university, find the number of rankings in which they appear (it suffices to appear in one year for each ranking)."
   ]
  },
  {
   "cell_type": "code",
   "execution_count": null,
   "metadata": {},
   "outputs": [],
   "source": [
    "times.head()"
   ]
  },
  {
   "cell_type": "code",
   "execution_count": null,
   "metadata": {},
   "outputs": [],
   "source": [
    "# viene fatto una groupby per l'attributo 'university_name' e grazie alla funzione .size\n",
    "# troviamo il numero di volte in cui un'università appare nel ranking\n",
    "times_ranking=times.groupby('university_name').size()\n",
    "\n",
    "#convertiamo l'oggetto di tipo groupby in un dataframe pandas\n",
    "times_ranking_df=pd.DataFrame(times_ranking)\n",
    "\n",
    "times_ranking_df.rename(columns={0 : 'n_times'}, inplace=True)\n",
    "times_ranking_df.head()"
   ]
  },
  {
   "cell_type": "code",
   "execution_count": null,
   "metadata": {},
   "outputs": [],
   "source": [
    "shanghai.head()"
   ]
  },
  {
   "cell_type": "code",
   "execution_count": null,
   "metadata": {},
   "outputs": [],
   "source": [
    "shanghai_ranking=shanghai.groupby('university_name').size()\n",
    "shanghai_ranking_df=pd.DataFrame(shanghai_ranking)\n",
    "shanghai_ranking_df.rename(columns={0 : 'n_shanghai'}, inplace=True)\n",
    "shanghai_ranking_df.head()"
   ]
  },
  {
   "cell_type": "code",
   "execution_count": null,
   "metadata": {},
   "outputs": [],
   "source": [
    "cwur.head()"
   ]
  },
  {
   "cell_type": "code",
   "execution_count": null,
   "metadata": {},
   "outputs": [],
   "source": [
    "#scegliamo di convertire il nome della colonna 'institution' in modo da renderlo omogeneo in tutti e 3 i dataframe\n",
    "cwur.rename(columns={'institution' : 'university_name'}, inplace=True)\n",
    "cwur_ranking=cwur.groupby('university_name').size()\n",
    "cwur_ranking_df=pd.DataFrame(cwur_ranking)\n",
    "cwur_ranking_df.rename(columns={0 : 'n_cwur'}, inplace=True)\n",
    "cwur_ranking_df.head()"
   ]
  },
  {
   "cell_type": "code",
   "execution_count": null,
   "metadata": {},
   "outputs": [],
   "source": [
    "unione_uni=pd.merge(pd.merge(times_ranking_df, shanghai_ranking_df, on='university_name'), cwur_ranking_df, on='university_name')\n",
    "unione_uni.head()"
   ]
  },
  {
   "cell_type": "code",
   "execution_count": null,
   "metadata": {},
   "outputs": [],
   "source": [
    "#restituisce il numero di volte in cui un'università appare\n",
    "unione_uni['somma']=unione_uni['n_times']+unione_uni['n_shanghai']+unione_uni['n_cwur']"
   ]
  },
  {
   "cell_type": "code",
   "execution_count": null,
   "metadata": {},
   "outputs": [],
   "source": [
    "unione_uni.head()"
   ]
  },
  {
   "cell_type": "markdown",
   "metadata": {},
   "source": [
    "## 11. In the times ranking, compute the number of times each university appears"
   ]
  },
  {
   "cell_type": "code",
   "execution_count": null,
   "metadata": {},
   "outputs": [],
   "source": [
    "times_ranking_df.head()"
   ]
  },
  {
   "cell_type": "markdown",
   "metadata": {},
   "source": [
    "## 12. Find the universities that appear at most twice in the times ranking"
   ]
  },
  {
   "cell_type": "code",
   "execution_count": null,
   "metadata": {},
   "outputs": [],
   "source": [
    "times_ranking_df[times_ranking_df['n_times']<= 2].head()"
   ]
  },
  {
   "cell_type": "markdown",
   "metadata": {},
   "source": [
    "## 13. The universities that, in any year, have the same position in all three rankings (they must have the same position in a year)"
   ]
  },
  {
   "cell_type": "markdown",
   "metadata": {},
   "source": [
    "Anno 2012-2013: non dobbiamo modificare nulla \n",
    "Anno 2014-2015: arrivare massimo fino a 400. Fino al 100 valori singoli, 101-150, 151-200, 201-300, 301-400. (usiamo i range di shanghai). Aggreghiamo times e creiamo i range per cwur."
   ]
  },
  {
   "cell_type": "code",
   "execution_count": null,
   "metadata": {},
   "outputs": [],
   "source": [
    "#estrazione degli attributi utili allo svolgimento del punto\n",
    "position_times=times[['world_rank', 'university_name','year']]\n",
    "position_shanghai=shanghai[['world_rank', 'university_name','year']]\n",
    "position_cwur=cwur[['world_rank', 'university_name','year']]"
   ]
  },
  {
   "cell_type": "code",
   "execution_count": null,
   "metadata": {},
   "outputs": [],
   "source": [
    "#iteriamo su position_times, e andiamo a modificare i ranking in modo da renderli omogenei\n",
    "for i in range(0,len(position_times)):\n",
    "    if position_times['year'][i]==2014 or position_times['year'][i]==2015:\n",
    "        if '-' not in position_times['world_rank'][i]:\n",
    "            if 101<=int(position_times['world_rank'][i] )<=150:\n",
    "                position_times['world_rank'][i]='101-150'\n",
    "            elif 151<=int(position_times['world_rank'][i] )<=200:\n",
    "                position_times['world_rank'][i]='151-200'\n",
    "        else:\n",
    "            if position_times['world_rank'][i][0]=='2':\n",
    "                position_times['world_rank'][i]='201-300'\n",
    "            elif position_times['world_rank'][i][0]=='3':\n",
    "                position_times['world_rank'][i]='301-400'\n",
    "                \n",
    "  "
   ]
  },
  {
   "cell_type": "code",
   "execution_count": null,
   "metadata": {},
   "outputs": [],
   "source": [
    "for i in range(0,len(position_cwur)):\n",
    "    if position_cwur['year'][i]==2014 or position_cwur['year'][i]==2015:\n",
    "        if 101<=position_cwur['world_rank'][i]<=150:\n",
    "            position_cwur['world_rank'][i]='101-150'\n",
    "        elif 151<=position_cwur['world_rank'][i]<=200:\n",
    "            position_cwur['world_rank'][i]='151-200'\n",
    "        elif 201<=position_cwur['world_rank'][i]<=300:\n",
    "            position_cwur['world_rank'][i]='201-300'\n",
    "        elif 301<=position_cwur['world_rank'][i]<=400:\n",
    "            position_cwur['world_rank'][i]='301-400'\n",
    "            "
   ]
  },
  {
   "cell_type": "code",
   "execution_count": null,
   "metadata": {},
   "outputs": [],
   "source": [
    "position_uni=pd.merge(pd.merge(position_times,position_shanghai, on='university_name'), position_cwur, on ='university_name')\n",
    "position_uni.rename(columns={'world_rank_x' : 'w_r_times','year_x':'year_times', 'world_rank_y': 'w_r_shanghai',\n",
    "                                    'year_y':'year_shanghai', 'world_rank': 'w_r_cwur', 'year': 'year_cwur'}, inplace=True)\n",
    "position_uni.head()"
   ]
  },
  {
   "cell_type": "code",
   "execution_count": null,
   "metadata": {},
   "outputs": [],
   "source": [
    "#cambiamento ordine delle colonne\n",
    "position_uni = position_uni[['university_name','w_r_times','year_times','w_r_shanghai', 'year_shanghai','w_r_cwur','year_cwur']]"
   ]
  },
  {
   "cell_type": "code",
   "execution_count": null,
   "metadata": {},
   "outputs": [],
   "source": [
    "#confronto tra tutti gli anni e le posizioni nei ranking per tutte le università\n",
    "same_rank =[]\n",
    "for index, row in position_uni.iterrows():\n",
    "    if position_uni['year_times'][index]==position_uni['year_shanghai'][index] & position_uni['year_shanghai'][index]==position_uni['year_cwur'][index]:\n",
    "        if position_uni['w_r_times'][index]==position_uni['w_r_shanghai'][index] and position_uni['w_r_shanghai'][index]==str(position_uni['w_r_cwur'][index]):\n",
    "            same_rank.append(row)\n",
    "\n",
    "\n",
    "same_rank_df = pd.DataFrame(same_rank)\n",
    "same_rank_df\n",
    "\n"
   ]
  }
 ],
 "metadata": {
  "kernelspec": {
   "display_name": "Python 3",
   "language": "python",
   "name": "python3"
  },
  "language_info": {
   "codemirror_mode": {
    "name": "ipython",
    "version": 3
   },
   "file_extension": ".py",
   "mimetype": "text/x-python",
   "name": "python",
   "nbconvert_exporter": "python",
   "pygments_lexer": "ipython3",
   "version": "3.7.3"
  }
 },
 "nbformat": 4,
 "nbformat_minor": 2
}
